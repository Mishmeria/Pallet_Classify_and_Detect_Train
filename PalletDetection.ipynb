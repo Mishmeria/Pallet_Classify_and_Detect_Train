{
 "cells": [
  {
   "cell_type": "code",
   "execution_count": null,
   "id": "435f675b",
   "metadata": {},
   "outputs": [],
   "source": [
    "from roboflow import Roboflow\n",
    "rf = Roboflow(api_key=\"TeieUHWBZSJGpBxZWh10\")\n",
    "project = rf.workspace(\"mishmeria\").project(\"failure-pallet-detection-94gji\")\n",
    "version = project.version(2)\n",
    "dataset = version.download(\"yolov8\")"
   ]
  },
  {
   "cell_type": "code",
   "execution_count": 2,
   "id": "774c91de",
   "metadata": {},
   "outputs": [],
   "source": [
    "from ultralytics import YOLO\n",
    "model = YOLO(\"yolov8n.pt\")"
   ]
  },
  {
   "cell_type": "code",
   "execution_count": null,
   "id": "905fde10",
   "metadata": {},
   "outputs": [],
   "source": [
    "import torch\n",
    "print(\"PyTorch version:\", torch.__version__)\n",
    "print(\"CUDA available:\", torch.cuda.is_available())\n",
    "print(\"GPU in use:\", torch.cuda.get_device_name(0) if torch.cuda.is_available() else \"CPU only\")\n"
   ]
  },
  {
   "cell_type": "code",
   "execution_count": null,
   "id": "2d1d102d",
   "metadata": {},
   "outputs": [],
   "source": [
    "model.train(\n",
    "    data=\"failure-pallet-detection-2/data.yaml\",\n",
    "    epochs=100,          # enough to converge on 3.8k images\n",
    "    imgsz=640,           # matches Roboflow preprocessing\n",
    "    batch=16,            # adjust if OOM, try 8 if needed\n",
    "    patience=20,         # early stopping if no improvement\n",
    "    optimizer=\"AdamW\",   # better on small/medium datasets\n",
    "    device=0,            # force CUDA GPU\n",
    "    workers=2,           # safe for Jupyter; increase if CPU is free\n",
    "    project=\"runs/detect\", name=\"pallet_defect_v1\"\n",
    ")"
   ]
  },
  {
   "cell_type": "code",
   "execution_count": null,
   "id": "f3e18fb4",
   "metadata": {},
   "outputs": [],
   "source": [
    "import cv2\n",
    "from ultralytics import YOLO\n",
    "model = YOLO(\"D:/ClassifyModel/runs/detect/pallet_defect_v1/weights/best.pt\")\n",
    "cap = cv2.VideoCapture(\"C:/Program Files (x86)/HIK IN/HIK IN/storage/2025-08-26 14.34.41.mp4\")\n",
    "\n",
    "while cap.isOpened():\n",
    "    ret, frame = cap.read()\n",
    "    if not ret:\n",
    "        break\n",
    "\n",
    "    results = model(frame, conf=0.25)\n",
    "    annotated_frame = results[0].plot()\n",
    "\n",
    "    cv2.imshow(\"YOLO Detection\", annotated_frame)\n",
    "    if cv2.waitKey(1) & 0xFF == ord(\"q\"):  # press q to quit\n",
    "        break\n",
    "\n",
    "cap.release()\n",
    "cv2.destroyAllWindows()"
   ]
  }
 ],
 "metadata": {
  "kernelspec": {
   "display_name": ".venv",
   "language": "python",
   "name": "python3"
  },
  "language_info": {
   "codemirror_mode": {
    "name": "ipython",
    "version": 3
   },
   "file_extension": ".py",
   "mimetype": "text/x-python",
   "name": "python",
   "nbconvert_exporter": "python",
   "pygments_lexer": "ipython3",
   "version": "3.11.9"
  }
 },
 "nbformat": 4,
 "nbformat_minor": 5
}
